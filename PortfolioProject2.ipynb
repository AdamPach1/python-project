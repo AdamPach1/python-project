{
 "cells": [
  {
   "cell_type": "code",
   "execution_count": null,
   "metadata": {},
   "outputs": [],
   "source": [
    "import pandas as pd\n",
    "import seaborn as sns\n",
    "import numpy as np\n",
    "\n",
    "import matplotlib\n",
    "import matplotlib.pyplot as plt\n",
    "plt.style.use('ggplot')\n",
    "from matplotlib.pyplot import figure\n",
    "\n",
    "%matplotlib inline\n",
    "matplotlib.rcParams['figure.figsize'] = (12,8) #Adjusts the configuration of the plots we will create\n",
    "\n",
    "\n",
    "#Read in the data\n",
    "\n",
    "df = pd.read_csv(r'C:\\Users\\19162\\Desktop\\Portfolio Projects\\movies.csv')"
   ]
  },
  {
   "cell_type": "code",
   "execution_count": null,
   "metadata": {},
   "outputs": [],
   "source": [
    "#Look into the data\n",
    "\n",
    "df.head()"
   ]
  },
  {
   "cell_type": "code",
   "execution_count": null,
   "metadata": {},
   "outputs": [],
   "source": [
    "# Find any missing data\n",
    "\n",
    "for col in df.columns:\n",
    "    pct_missing = np.mean(df[col].isnull())\n",
    "    print('{} - {}%'.format(col, pct_missing))"
   ]
  },
  {
   "cell_type": "code",
   "execution_count": null,
   "metadata": {},
   "outputs": [],
   "source": [
    "# Data types for our columns\n",
    "\n",
    "df.dtypes"
   ]
  },
  {
   "cell_type": "code",
   "execution_count": null,
   "metadata": {},
   "outputs": [],
   "source": [
    "#Changing data type of columns\n",
    "\n",
    "df['budget'] = df['budget'].astype('int64')\n",
    "\n",
    "df['gross'] = df['gross'].astype('int64')"
   ]
  },
  {
   "cell_type": "code",
   "execution_count": null,
   "metadata": {},
   "outputs": [],
   "source": [
    "#Create correct year column\n",
    "\n",
    "df['yearcorrect'] = df['released'].str.extract(r',\\s(.*?)\\(')"
   ]
  },
  {
   "cell_type": "code",
   "execution_count": null,
   "metadata": {},
   "outputs": [],
   "source": [
    "#Sorting highest grossing films descing\n",
    "df = df.sort_values(by=['gross'], inplace=False, ascending=False)"
   ]
  },
  {
   "cell_type": "code",
   "execution_count": null,
   "metadata": {},
   "outputs": [],
   "source": [
    "#Drop any duplicates\n",
    "\n",
    "df['company'].drop_duplicates().sort_values(ascending=False)\n",
    "\n",
    "#df.drop_duplicates()"
   ]
  },
  {
   "cell_type": "code",
   "execution_count": null,
   "metadata": {},
   "outputs": [],
   "source": [
    "#Building a scatter plot w/ budget vs gross\n",
    "\n",
    "plt.scatter(x=df['budget'], y=df['gross'])\n",
    "\n",
    "plt.title('Budget vs Gross Earnings')\n",
    "\n",
    "plt.xlabel('Gross Earnings')\n",
    "\n",
    "plt.ylabel('Budget of Film')\n",
    "\n",
    "plt.show()"
   ]
  },
  {
   "cell_type": "code",
   "execution_count": null,
   "metadata": {},
   "outputs": [],
   "source": [
    "#Plot budget vs gross using seaborn\n",
    "\n",
    "sns.regplot(x='budget', y='gross', data=df, scatter_kws={\"color\": \"red\"}, line_kws={\"color\":\"blue\"})"
   ]
  },
  {
   "cell_type": "code",
   "execution_count": null,
   "metadata": {},
   "outputs": [],
   "source": [
    "df_numerized = df\n",
    "\n",
    "for col_name in df_numerized.columns:\n",
    "    if(df_numerized[col_name].dtype == 'object'):\n",
    "        df_numerized[col_name] = df_numerized[col_name].astype('category')\n",
    "        df_numerized[col_name] = df_numerized[col_name].cat.codes\n",
    "\n",
    "df_numerized"
   ]
  },
  {
   "cell_type": "code",
   "execution_count": null,
   "metadata": {},
   "outputs": [],
   "source": [
    "correlation_matrix = df_numerized.corr(method='pearson')\n",
    "\n",
    "sns.heatmap(correlation_matrix, annot=True)\n",
    "\n",
    "plt.title('Correlation Matrix for Numeric Features')\n",
    "\n",
    "plt.xlabel('Movie Features')\n",
    "\n",
    "plt.ylabel('Movie Features')\n",
    "\n",
    "plt.show()"
   ]
  },
  {
   "cell_type": "code",
   "execution_count": null,
   "metadata": {},
   "outputs": [],
   "source": [
    "correlation_mat = df_numerized.corr()\n",
    "\n",
    "corr_pairs = correlation_mat.unstack()\n",
    "\n",
    "corr_pairs"
   ]
  },
  {
   "cell_type": "code",
   "execution_count": null,
   "metadata": {},
   "outputs": [],
   "source": [
    "sorted_pairs = corr_pairs.sort_values()\n",
    "\n",
    "sorted_pairs"
   ]
  },
  {
   "cell_type": "code",
   "execution_count": 93,
   "metadata": {},
   "outputs": [
    {
     "data": {
      "text/plain": [
       "votes        gross          0.614751\n",
       "gross        votes          0.614751\n",
       "             budget         0.740247\n",
       "budget       gross          0.740247\n",
       "yearcorrect  year           0.996723\n",
       "year         yearcorrect    0.996723\n",
       "name         name           1.000000\n",
       "company      company        1.000000\n",
       "gross        gross          1.000000\n",
       "budget       budget         1.000000\n",
       "country      country        1.000000\n",
       "star         star           1.000000\n",
       "writer       writer         1.000000\n",
       "director     director       1.000000\n",
       "votes        votes          1.000000\n",
       "score        score          1.000000\n",
       "released     released       1.000000\n",
       "year         year           1.000000\n",
       "genre        genre          1.000000\n",
       "rating       rating         1.000000\n",
       "runtime      runtime        1.000000\n",
       "yearcorrect  yearcorrect    1.000000\n",
       "dtype: float64"
      ]
     },
     "execution_count": 93,
     "metadata": {},
     "output_type": "execute_result"
    }
   ],
   "source": [
    "high_corr = sorted_pairs[(sorted_pairs) > 0.5]\n",
    "\n",
    "high_corr"
   ]
  }
 ],
 "metadata": {
  "kernelspec": {
   "display_name": "Python 3",
   "language": "python",
   "name": "python3"
  },
  "language_info": {
   "codemirror_mode": {
    "name": "ipython",
    "version": 3
   },
   "file_extension": ".py",
   "mimetype": "text/x-python",
   "name": "python",
   "nbconvert_exporter": "python",
   "pygments_lexer": "ipython3",
   "version": "3.11.4"
  }
 },
 "nbformat": 4,
 "nbformat_minor": 2
}
